{
 "cells": [
  {
   "cell_type": "code",
   "execution_count": 2,
   "metadata": {},
   "outputs": [],
   "source": [
    "import pandas as pd\n",
    "import numpy as np\n",
    "from sklearn.model_selection import train_test_split\n",
    "from sklearn.ensemble import RandomForestClassifier\n",
    "from sklearn.preprocessing import LabelEncoder\n",
    "from sklearn.metrics import classification_report\n",
    "import joblib"
   ]
  },
  {
   "cell_type": "code",
   "execution_count": 10,
   "metadata": {},
   "outputs": [],
   "source": [
    "def load_data():\n",
    "    df = pd.read_csv('model_training_dataset.csv')\n",
    "    return df"
   ]
  },
  {
   "cell_type": "code",
   "execution_count": 4,
   "metadata": {},
   "outputs": [],
   "source": [
    "# Preprocess the data\n",
    "def preprocess_data(df):\n",
    "    # Encode the target variable\n",
    "    le = LabelEncoder()\n",
    "    df['severity'] = le.fit_transform(df['severity'])\n",
    "    \n",
    "    # Select features\n",
    "    features = ['temp', 'humidity', 'rain_1h', 'wind_speed', 'pressure', 'clouds']\n",
    "    X = df[features]\n",
    "    y = df['severity']\n",
    "    \n",
    "    return X, y, le, features"
   ]
  },
  {
   "cell_type": "code",
   "execution_count": 5,
   "metadata": {},
   "outputs": [],
   "source": [
    "# Train the model\n",
    "def train_model(X, y):\n",
    "    # Split the data\n",
    "    X_train, X_test, y_train, y_test = train_test_split(X, y, test_size=0.2, random_state=42)\n",
    "    \n",
    "    # Create and train the model\n",
    "    model = RandomForestClassifier(n_estimators=100, random_state=42)\n",
    "    model.fit(X_train, y_train)\n",
    "    \n",
    "    # Evaluate the model\n",
    "    y_pred = model.predict(X_test)\n",
    "    print(\"Model Performance:\")\n",
    "    print(classification_report(y_test, y_pred))\n",
    "    \n",
    "    return model"
   ]
  },
  {
   "cell_type": "code",
   "execution_count": 6,
   "metadata": {},
   "outputs": [],
   "source": [
    "# Function to make predictions on live data\n",
    "def predict_severity(model, le, features, live_data):\n",
    "    \"\"\"\n",
    "    Make predictions on live weather data\n",
    "    \n",
    "    Args:\n",
    "        model: Trained RandomForestClassifier model\n",
    "        le: LabelEncoder for severity labels\n",
    "        features: List of feature names\n",
    "        live_data: Dictionary containing live weather data\n",
    "    \n",
    "    Returns:\n",
    "        Predicted severity label\n",
    "    \"\"\"\n",
    "    # Create a DataFrame from live data\n",
    "    live_df = pd.DataFrame([live_data])\n",
    "    \n",
    "    # Ensure the features are in the correct order\n",
    "    live_df = live_df[features]\n",
    "    \n",
    "    # Make prediction\n",
    "    prediction = model.predict(live_df)\n",
    "    \n",
    "    # Convert numerical prediction back to label\n",
    "    severity_label = le.inverse_transform(prediction)[0]\n",
    "    \n",
    "    return severity_label"
   ]
  },
  {
   "cell_type": "code",
   "execution_count": 7,
   "metadata": {},
   "outputs": [],
   "source": [
    "def main():\n",
    "    # Load and preprocess data\n",
    "    df = load_data()\n",
    "    X, y, le, features = preprocess_data(df)\n",
    "    \n",
    "    # Train the model\n",
    "    model = train_model(X, y)\n",
    "    \n",
    "    # Save the model and label encoder\n",
    "    joblib.dump(model, 'disaster_severity_model.joblib')\n",
    "    joblib.dump(le, 'label_encoder.joblib')\n",
    "    joblib.dump(features, 'feature_list.joblib')\n",
    "    \n",
    "    print(\"\\nModel and supporting files saved successfully!\")\n"
   ]
  },
  {
   "cell_type": "code",
   "execution_count": 11,
   "metadata": {},
   "outputs": [
    {
     "name": "stdout",
     "output_type": "stream",
     "text": [
      "Model Performance:\n",
      "              precision    recall  f1-score   support\n",
      "\n",
      "           0       1.00      1.00      1.00       127\n",
      "           1       0.94      0.99      0.97       120\n",
      "           2       0.99      0.94      0.96       113\n",
      "\n",
      "    accuracy                           0.98       360\n",
      "   macro avg       0.98      0.98      0.98       360\n",
      "weighted avg       0.98      0.98      0.98       360\n",
      "\n",
      "\n",
      "Model and supporting files saved successfully!\n"
     ]
    }
   ],
   "source": [
    "main()"
   ]
  },
  {
   "cell_type": "code",
   "execution_count": null,
   "metadata": {},
   "outputs": [],
   "source": []
  }
 ],
 "metadata": {
  "kernelspec": {
   "display_name": "Python 3",
   "language": "python",
   "name": "python3"
  },
  "language_info": {
   "codemirror_mode": {
    "name": "ipython",
    "version": 3
   },
   "file_extension": ".py",
   "mimetype": "text/x-python",
   "name": "python",
   "nbconvert_exporter": "python",
   "pygments_lexer": "ipython3",
   "version": "3.10.0"
  }
 },
 "nbformat": 4,
 "nbformat_minor": 2
}
